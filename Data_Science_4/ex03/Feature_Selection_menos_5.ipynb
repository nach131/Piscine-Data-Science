{
 "cells": [
  {
   "cell_type": "code",
   "execution_count": 2,
   "id": "8808e696-7f5d-4a30-917d-ef440d3b44b9",
   "metadata": {},
   "outputs": [
    {
     "name": "stdout",
     "output_type": "stream",
     "text": [
      "Collecting statsmodels\n",
      "  Downloading statsmodels-0.14.4-cp311-cp311-manylinux_2_17_x86_64.manylinux2014_x86_64.whl.metadata (9.2 kB)\n",
      "Requirement already satisfied: numpy<3,>=1.22.3 in /opt/conda/lib/python3.11/site-packages (from statsmodels) (2.1.1)\n",
      "Requirement already satisfied: scipy!=1.9.2,>=1.8 in /opt/conda/lib/python3.11/site-packages (from statsmodels) (1.14.1)\n",
      "Requirement already satisfied: pandas!=2.1.0,>=1.4 in /opt/conda/lib/python3.11/site-packages (from statsmodels) (2.2.3)\n",
      "Collecting patsy>=0.5.6 (from statsmodels)\n",
      "  Downloading patsy-0.5.6-py2.py3-none-any.whl.metadata (3.5 kB)\n",
      "Requirement already satisfied: packaging>=21.3 in /opt/conda/lib/python3.11/site-packages (from statsmodels) (23.2)\n",
      "Requirement already satisfied: python-dateutil>=2.8.2 in /opt/conda/lib/python3.11/site-packages (from pandas!=2.1.0,>=1.4->statsmodels) (2.8.2)\n",
      "Requirement already satisfied: pytz>=2020.1 in /opt/conda/lib/python3.11/site-packages (from pandas!=2.1.0,>=1.4->statsmodels) (2023.3.post1)\n",
      "Requirement already satisfied: tzdata>=2022.7 in /opt/conda/lib/python3.11/site-packages (from pandas!=2.1.0,>=1.4->statsmodels) (2024.2)\n",
      "Requirement already satisfied: six in /opt/conda/lib/python3.11/site-packages (from patsy>=0.5.6->statsmodels) (1.16.0)\n",
      "Downloading statsmodels-0.14.4-cp311-cp311-manylinux_2_17_x86_64.manylinux2014_x86_64.whl (10.8 MB)\n",
      "\u001b[2K   \u001b[90m━━━━━━━━━━━━━━━━━━━━━━━━━━━━━━━━━━━━━━━━\u001b[0m \u001b[32m10.8/10.8 MB\u001b[0m \u001b[31m59.5 MB/s\u001b[0m eta \u001b[36m0:00:00\u001b[0m00:01\u001b[0m\n",
      "\u001b[?25hDownloading patsy-0.5.6-py2.py3-none-any.whl (233 kB)\n",
      "Installing collected packages: patsy, statsmodels\n",
      "Successfully installed patsy-0.5.6 statsmodels-0.14.4\n"
     ]
    }
   ],
   "source": [
    "!pip install statsmodels"
   ]
  },
  {
   "cell_type": "code",
   "execution_count": 13,
   "id": "e661c026-2ee3-4c6f-83a3-377f9cc5606a",
   "metadata": {},
   "outputs": [],
   "source": [
    "import pandas as pd\n",
    "import numpy as np\n",
    "from statsmodels.stats.outliers_influence import variance_inflation_factor\n",
    "from sklearn.preprocessing import StandardScaler"
   ]
  },
  {
   "cell_type": "code",
   "execution_count": 14,
   "id": "db7e9ef3-c469-43e5-b978-f9fb566049ca",
   "metadata": {},
   "outputs": [
    {
     "data": {
      "text/html": [
       "<div>\n",
       "<style scoped>\n",
       "    .dataframe tbody tr th:only-of-type {\n",
       "        vertical-align: middle;\n",
       "    }\n",
       "\n",
       "    .dataframe tbody tr th {\n",
       "        vertical-align: top;\n",
       "    }\n",
       "\n",
       "    .dataframe thead th {\n",
       "        text-align: right;\n",
       "    }\n",
       "</style>\n",
       "<table border=\"1\" class=\"dataframe\">\n",
       "  <thead>\n",
       "    <tr style=\"text-align: right;\">\n",
       "      <th></th>\n",
       "      <th>Sensitivity</th>\n",
       "      <th>Hability</th>\n",
       "      <th>Strength</th>\n",
       "      <th>Power</th>\n",
       "      <th>Agility</th>\n",
       "      <th>Dexterity</th>\n",
       "      <th>Awareness</th>\n",
       "      <th>Prescience</th>\n",
       "      <th>Reactivity</th>\n",
       "      <th>Midi-chlorien</th>\n",
       "      <th>...</th>\n",
       "      <th>Recovery</th>\n",
       "      <th>Evade</th>\n",
       "      <th>Stims</th>\n",
       "      <th>Sprint</th>\n",
       "      <th>Combo</th>\n",
       "      <th>Delay</th>\n",
       "      <th>Attunement</th>\n",
       "      <th>Empowered</th>\n",
       "      <th>Burst</th>\n",
       "      <th>Grasping</th>\n",
       "    </tr>\n",
       "  </thead>\n",
       "  <tbody>\n",
       "    <tr>\n",
       "      <th>0</th>\n",
       "      <td>11.42</td>\n",
       "      <td>20.38</td>\n",
       "      <td>77.58</td>\n",
       "      <td>386.1</td>\n",
       "      <td>0.14250</td>\n",
       "      <td>0.28390</td>\n",
       "      <td>0.24140</td>\n",
       "      <td>0.10520</td>\n",
       "      <td>0.2597</td>\n",
       "      <td>0.09744</td>\n",
       "      <td>...</td>\n",
       "      <td>14.91</td>\n",
       "      <td>26.50</td>\n",
       "      <td>98.87</td>\n",
       "      <td>567.7</td>\n",
       "      <td>0.2098</td>\n",
       "      <td>0.8663</td>\n",
       "      <td>0.6869</td>\n",
       "      <td>0.2575</td>\n",
       "      <td>0.6638</td>\n",
       "      <td>0.17300</td>\n",
       "    </tr>\n",
       "    <tr>\n",
       "      <th>1</th>\n",
       "      <td>18.25</td>\n",
       "      <td>19.98</td>\n",
       "      <td>119.60</td>\n",
       "      <td>1040.0</td>\n",
       "      <td>0.09463</td>\n",
       "      <td>0.10900</td>\n",
       "      <td>0.11270</td>\n",
       "      <td>0.07400</td>\n",
       "      <td>0.1794</td>\n",
       "      <td>0.05742</td>\n",
       "      <td>...</td>\n",
       "      <td>22.88</td>\n",
       "      <td>27.66</td>\n",
       "      <td>153.20</td>\n",
       "      <td>1606.0</td>\n",
       "      <td>0.1442</td>\n",
       "      <td>0.2576</td>\n",
       "      <td>0.3784</td>\n",
       "      <td>0.1932</td>\n",
       "      <td>0.3063</td>\n",
       "      <td>0.08368</td>\n",
       "    </tr>\n",
       "    <tr>\n",
       "      <th>2</th>\n",
       "      <td>14.68</td>\n",
       "      <td>20.13</td>\n",
       "      <td>94.74</td>\n",
       "      <td>684.5</td>\n",
       "      <td>0.09867</td>\n",
       "      <td>0.07200</td>\n",
       "      <td>0.07395</td>\n",
       "      <td>0.05259</td>\n",
       "      <td>0.1586</td>\n",
       "      <td>0.05922</td>\n",
       "      <td>...</td>\n",
       "      <td>19.07</td>\n",
       "      <td>30.88</td>\n",
       "      <td>123.40</td>\n",
       "      <td>1138.0</td>\n",
       "      <td>0.1464</td>\n",
       "      <td>0.1871</td>\n",
       "      <td>0.2914</td>\n",
       "      <td>0.1609</td>\n",
       "      <td>0.3029</td>\n",
       "      <td>0.08216</td>\n",
       "    </tr>\n",
       "    <tr>\n",
       "      <th>3</th>\n",
       "      <td>13.54</td>\n",
       "      <td>14.36</td>\n",
       "      <td>87.46</td>\n",
       "      <td>566.3</td>\n",
       "      <td>0.09779</td>\n",
       "      <td>0.08129</td>\n",
       "      <td>0.06664</td>\n",
       "      <td>0.04781</td>\n",
       "      <td>0.1885</td>\n",
       "      <td>0.05766</td>\n",
       "      <td>...</td>\n",
       "      <td>15.11</td>\n",
       "      <td>19.26</td>\n",
       "      <td>99.70</td>\n",
       "      <td>711.2</td>\n",
       "      <td>0.1440</td>\n",
       "      <td>0.1773</td>\n",
       "      <td>0.2390</td>\n",
       "      <td>0.1288</td>\n",
       "      <td>0.2977</td>\n",
       "      <td>0.07259</td>\n",
       "    </tr>\n",
       "    <tr>\n",
       "      <th>4</th>\n",
       "      <td>15.34</td>\n",
       "      <td>14.26</td>\n",
       "      <td>102.50</td>\n",
       "      <td>704.4</td>\n",
       "      <td>0.10730</td>\n",
       "      <td>0.21350</td>\n",
       "      <td>0.20770</td>\n",
       "      <td>0.09756</td>\n",
       "      <td>0.2521</td>\n",
       "      <td>0.07032</td>\n",
       "      <td>...</td>\n",
       "      <td>18.07</td>\n",
       "      <td>19.08</td>\n",
       "      <td>125.10</td>\n",
       "      <td>980.9</td>\n",
       "      <td>0.1390</td>\n",
       "      <td>0.5954</td>\n",
       "      <td>0.6305</td>\n",
       "      <td>0.2393</td>\n",
       "      <td>0.4667</td>\n",
       "      <td>0.09946</td>\n",
       "    </tr>\n",
       "  </tbody>\n",
       "</table>\n",
       "<p>5 rows × 30 columns</p>\n",
       "</div>"
      ],
      "text/plain": [
       "   Sensitivity  Hability  Strength   Power  Agility  Dexterity  Awareness  \\\n",
       "0        11.42     20.38     77.58   386.1  0.14250    0.28390    0.24140   \n",
       "1        18.25     19.98    119.60  1040.0  0.09463    0.10900    0.11270   \n",
       "2        14.68     20.13     94.74   684.5  0.09867    0.07200    0.07395   \n",
       "3        13.54     14.36     87.46   566.3  0.09779    0.08129    0.06664   \n",
       "4        15.34     14.26    102.50   704.4  0.10730    0.21350    0.20770   \n",
       "\n",
       "   Prescience  Reactivity  Midi-chlorien  ...  Recovery  Evade   Stims  \\\n",
       "0     0.10520      0.2597        0.09744  ...     14.91  26.50   98.87   \n",
       "1     0.07400      0.1794        0.05742  ...     22.88  27.66  153.20   \n",
       "2     0.05259      0.1586        0.05922  ...     19.07  30.88  123.40   \n",
       "3     0.04781      0.1885        0.05766  ...     15.11  19.26   99.70   \n",
       "4     0.09756      0.2521        0.07032  ...     18.07  19.08  125.10   \n",
       "\n",
       "   Sprint   Combo   Delay  Attunement  Empowered   Burst  Grasping  \n",
       "0   567.7  0.2098  0.8663      0.6869     0.2575  0.6638   0.17300  \n",
       "1  1606.0  0.1442  0.2576      0.3784     0.1932  0.3063   0.08368  \n",
       "2  1138.0  0.1464  0.1871      0.2914     0.1609  0.3029   0.08216  \n",
       "3   711.2  0.1440  0.1773      0.2390     0.1288  0.2977   0.07259  \n",
       "4   980.9  0.1390  0.5954      0.6305     0.2393  0.4667   0.09946  \n",
       "\n",
       "[5 rows x 30 columns]"
      ]
     },
     "execution_count": 14,
     "metadata": {},
     "output_type": "execute_result"
    }
   ],
   "source": [
    "dataTest = pd.read_csv(\"subject/Test_knight.csv\")\n",
    "dataTest.head()"
   ]
  },
  {
   "cell_type": "code",
   "execution_count": 15,
   "id": "49cc37ad-5abd-4ea2-940a-e47246896488",
   "metadata": {},
   "outputs": [
    {
     "name": "stdout",
     "output_type": "stream",
     "text": [
      "[[-0.74065841  0.14879169 -0.57270735 ...  2.19384975  5.25826907\n",
      "   5.21963588]\n",
      " [ 1.08146987  0.06176859  1.0481934  ...  1.2255794   0.17278943\n",
      "  -0.00998076]\n",
      " [ 0.12905435  0.09440225  0.08923118 ...  0.73918542  0.12442403\n",
      "  -0.09897558]\n",
      " ...\n",
      " [ 1.79378063  1.17348871  1.95083685 ...  2.14415625 -0.01782715\n",
      "   0.87118505]\n",
      " [ 0.64127782  1.82398639  0.61230148 ...  0.45156546 -1.02923303\n",
      "  -0.3308305 ]\n",
      " [-1.71708441  1.05383194 -1.7168272  ... -1.68374926 -0.10033283\n",
      "  -0.78809994]]\n"
     ]
    }
   ],
   "source": [
    "# Normalizar los datos (opcional, pero recomendado si las escalas son muy diferentes)\n",
    "scaler = StandardScaler()\n",
    "data_scaled = scaler.fit_transform(dataTest)\n",
    "print(data_scaled)\n"
   ]
  },
  {
   "cell_type": "code",
   "execution_count": 16,
   "id": "caff164b-ae06-46ac-927f-08d51f403124",
   "metadata": {},
   "outputs": [],
   "source": [
    "# Crear un DataFrame para las características normalizadas\n",
    "data_scaled_df = pd.DataFrame(data_scaled, columns=dataTest.columns)"
   ]
  },
  {
   "cell_type": "code",
   "execution_count": 25,
   "id": "68569a8d-b94f-49a3-98f2-246b6619de27",
   "metadata": {},
   "outputs": [],
   "source": [
    "# Calcular el VIF para cada característica\n",
    "def calculate_vif(data):\n",
    "    vif_data = pd.DataFrame()\n",
    "    vif_data[\"Feature\"] = data.columns\n",
    "    vif_data[\"VIF\"] = [variance_inflation_factor(data.values, i) for i in range(data.shape[1])]\n",
    "    vif_data[\"Tolerance\"] = 1 / vif_data[\"VIF\"]\n",
    "    return vif_data"
   ]
  },
  {
   "cell_type": "code",
   "execution_count": 26,
   "id": "c235da9c-8511-4215-9a75-c03b010b7846",
   "metadata": {},
   "outputs": [
    {
     "name": "stdout",
     "output_type": "stream",
     "text": [
      "VIF inicial:\n",
      "          Feature          VIF  Tolerance\n",
      "0     Sensitivity  4282.499725   0.000234\n",
      "1        Hability    18.559728   0.053880\n",
      "2        Strength  4003.652047   0.000250\n",
      "3           Power   477.730519   0.002093\n",
      "4         Agility    13.713180   0.072923\n",
      "5       Dexterity    57.554993   0.017375\n",
      "6       Awareness    96.794082   0.010331\n",
      "7      Prescience    95.728833   0.010446\n",
      "8      Reactivity     5.860520   0.170633\n",
      "9   Midi-chlorien    25.555332   0.039131\n",
      "10          Slash   160.894576   0.006215\n",
      "11           Push     8.206184   0.121859\n",
      "12           Pull   133.100410   0.007513\n",
      "13     Lightsaber    94.559187   0.010575\n",
      "14       Survival     9.293929   0.107597\n",
      "15        Repulse    41.250309   0.024242\n",
      "16     Friendship    33.496386   0.029854\n",
      "17       Blocking    12.589272   0.079433\n",
      "18     Deflection     8.977914   0.111384\n",
      "19           Mass    15.562145   0.064258\n",
      "20       Recovery  1367.001571   0.000732\n",
      "21          Evade    31.477268   0.031769\n",
      "22          Stims  1047.514892   0.000955\n",
      "23         Sprint   605.793908   0.001651\n",
      "24          Combo    20.478328   0.048832\n",
      "25          Delay    67.869502   0.014734\n",
      "26     Attunement    50.176972   0.019929\n",
      "27      Empowered    50.842847   0.019668\n",
      "28          Burst    16.250516   0.061537\n",
      "29       Grasping    27.021861   0.037007\n"
     ]
    }
   ],
   "source": [
    "# Mostrar el VIF inicial\n",
    "vif_data = calculate_vif(data_scaled_df)\n",
    "print(\"VIF inicial:\")\n",
    "print(vif_data)"
   ]
  },
  {
   "cell_type": "code",
   "execution_count": 27,
   "id": "9a4bea7b-0b6e-4275-b75e-4817c84ee723",
   "metadata": {},
   "outputs": [],
   "source": [
    "# Eliminar características con VIF mayor que 5\n",
    "threshold_vif = 5\n",
    "features_to_keep = data_scaled_df.columns"
   ]
  },
  {
   "cell_type": "code",
   "execution_count": 28,
   "id": "48ac181d-ddcd-4c82-9e69-708bdb2cb14b",
   "metadata": {},
   "outputs": [
    {
     "name": "stdout",
     "output_type": "stream",
     "text": [
      "Eliminando característica con alto VIF: Sensitivity\n",
      "Eliminando característica con alto VIF: Recovery\n",
      "Eliminando característica con alto VIF: Stims\n",
      "Eliminando característica con alto VIF: Power\n",
      "Eliminando característica con alto VIF: Prescience\n",
      "Eliminando característica con alto VIF: Delay\n",
      "Eliminando característica con alto VIF: Slash\n",
      "Eliminando característica con alto VIF: Sprint\n",
      "Eliminando característica con alto VIF: Empowered\n",
      "Eliminando característica con alto VIF: Dexterity\n",
      "Eliminando característica con alto VIF: Evade\n",
      "Eliminando característica con alto VIF: Attunement\n",
      "Eliminando característica con alto VIF: Awareness\n",
      "Eliminando característica con alto VIF: Combo\n",
      "Eliminando característica con alto VIF: Lightsaber\n",
      "Eliminando característica con alto VIF: Midi-chlorien\n",
      "Eliminando característica con alto VIF: Repulse\n",
      "Eliminando característica con alto VIF: Burst\n"
     ]
    }
   ],
   "source": [
    "while True:\n",
    "    vif_data = calculate_vif(data_scaled_df[features_to_keep])\n",
    "    if vif_data['VIF'].max() > threshold_vif:\n",
    "        # Eliminar la característica con el VIF más alto\n",
    "        feature_to_drop = vif_data.sort_values('VIF', ascending=False).iloc[0]['Feature']\n",
    "        print(f\"Eliminando característica con alto VIF: {feature_to_drop}\")\n",
    "        features_to_keep = features_to_keep.drop(feature_to_drop)\n",
    "    else:\n",
    "        break"
   ]
  },
  {
   "cell_type": "code",
   "execution_count": 29,
   "id": "a1ee9760-478a-43c3-b84d-af9b21fe5a4b",
   "metadata": {},
   "outputs": [
    {
     "name": "stdout",
     "output_type": "stream",
     "text": [
      "\n",
      "Características con VIF < 5:\n",
      "Index(['Hability', 'Strength', 'Agility', 'Reactivity', 'Push', 'Pull',\n",
      "       'Survival', 'Friendship', 'Blocking', 'Deflection', 'Mass', 'Grasping'],\n",
      "      dtype='object')\n"
     ]
    }
   ],
   "source": [
    "# Mostrar las características restantes\n",
    "print(\"\\nCaracterísticas con VIF < 5:\")\n",
    "print(features_to_keep)"
   ]
  },
  {
   "cell_type": "code",
   "execution_count": 30,
   "id": "c7011eb5-e923-4e48-94bf-cd8ffc0a1ace",
   "metadata": {},
   "outputs": [
    {
     "name": "stdout",
     "output_type": "stream",
     "text": [
      "\n",
      "VIF final:\n",
      "       Feature       VIF  Tolerance\n",
      "0     Hability  1.765368   0.566454\n",
      "1     Strength  4.150614   0.240928\n",
      "2      Agility  2.677380   0.373499\n",
      "3   Reactivity  2.388793   0.418621\n",
      "4         Push  2.519464   0.396910\n",
      "5         Pull  4.210584   0.237497\n",
      "6     Survival  2.732984   0.365900\n",
      "7   Friendship  4.148570   0.241047\n",
      "8     Blocking  3.382866   0.295607\n",
      "9   Deflection  2.217619   0.450934\n",
      "10        Mass  4.647415   0.215173\n",
      "11    Grasping  3.543149   0.282235\n"
     ]
    }
   ],
   "source": [
    "# Mostrar el VIF final\n",
    "vif_final = calculate_vif(data_scaled_df[features_to_keep])\n",
    "print(\"\\nVIF final:\")\n",
    "print(vif_final)"
   ]
  },
  {
   "cell_type": "markdown",
   "id": "aa4781be-2d11-436c-8a84-a61f3b03e82d",
   "metadata": {},
   "source": [
    "# Variance Inflation Factor (VIF)\n",
    "\n",
    "El VIF mide cuánto la varianza de un coeficiente estimado está inflada debido a la correlación entre las características en un modelo de regresión. Un VIF alto indica que la característica está altamente correlacionada con otras características, lo que sugiere multicolinealidad.\n",
    "\n",
    "Un VIF mayor de 5 es generalmente considerado un indicador de multicolinealidad problemática, y deberíamos eliminar las características con valores altos de VIF para mejorar la estabilidad del modelo.\n",
    "\n",
    "\n",
    "***VIF:*** Cuanto más alto es el VIF, mayor es la multicolinealidad entre la característica y las demás.\n",
    "\n",
    "***Tolerance:*** Un Tolerance bajo indica que la característica está fuertemente colineal con las otras variables."
   ]
  }
 ],
 "metadata": {
  "kernelspec": {
   "display_name": "Python 3 (ipykernel)",
   "language": "python",
   "name": "python3"
  },
  "language_info": {
   "codemirror_mode": {
    "name": "ipython",
    "version": 3
   },
   "file_extension": ".py",
   "mimetype": "text/x-python",
   "name": "python",
   "nbconvert_exporter": "python",
   "pygments_lexer": "ipython3",
   "version": "3.11.6"
  }
 },
 "nbformat": 4,
 "nbformat_minor": 5
}
