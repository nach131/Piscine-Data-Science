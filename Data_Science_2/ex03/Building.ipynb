{
 "cells": [
  {
   "cell_type": "code",
   "execution_count": 1,
   "id": "2f76b4c8-035d-4f28-a301-7e27eddddcaf",
   "metadata": {},
   "outputs": [
    {
     "data": {
      "text/plain": [
       "True"
      ]
     },
     "execution_count": 1,
     "metadata": {},
     "output_type": "execute_result"
    }
   ],
   "source": [
    "import os\n",
    "from sqlalchemy import create_engine, text\n",
    "import matplotlib.pyplot as plt\n",
    "import matplotlib.dates as mdates\n",
    "from matplotlib.ticker import FuncFormatter\n",
    "import pandas as pd\n",
    "from dotenv import load_dotenv\n",
    "\n",
    "load_dotenv()"
   ]
  },
  {
   "cell_type": "code",
   "execution_count": 2,
   "id": "512a66f6-f687-4883-a7d3-b17f690f6b65",
   "metadata": {},
   "outputs": [],
   "source": [
    "db_host = os.getenv('DB_HOST')\n",
    "db_port = os.getenv('DB_PORT')\n",
    "db_user = os.getenv('DB_USER')\n",
    "db_pass = os.getenv('DB_PASS')\n",
    "db_name = os.getenv('DB_NAME')\n",
    "\n",
    "connection = f'postgresql://{db_user}:{db_pass}@{db_host}:{db_port}/{db_name}'\n",
    "engine = create_engine(connection)"
   ]
  },
  {
   "cell_type": "code",
   "execution_count": 3,
   "id": "b47b3d71-f118-44d9-99c6-563772bc3ba1",
   "metadata": {},
   "outputs": [],
   "source": [
    "table = 'customers'\n",
    "\n",
    "query_frequency = f\"\"\"\n",
    "SELECT user_id, COUNT(*)\n",
    "FROM {table} \n",
    "WHERE event_type = 'purchase'\n",
    "GROUP BY user_id\n",
    "\"\"\"\n",
    "query_monetary = f\"\"\"\n",
    "SELECT user_id, SUM(price)\n",
    "FROM {table} \n",
    "WHERE event_type = 'purchase'\n",
    "GROUP BY user_id\n",
    "HAVING SUM(price) < 225;\n",
    "\"\"\"\n"
   ]
  },
  {
   "cell_type": "code",
   "execution_count": 4,
   "id": "ad092e0e-b8c3-461d-be2a-d642532ea657",
   "metadata": {},
   "outputs": [
    {
     "data": {
      "text/html": [
       "<div>\n",
       "<style scoped>\n",
       "    .dataframe tbody tr th:only-of-type {\n",
       "        vertical-align: middle;\n",
       "    }\n",
       "\n",
       "    .dataframe tbody tr th {\n",
       "        vertical-align: top;\n",
       "    }\n",
       "\n",
       "    .dataframe thead th {\n",
       "        text-align: right;\n",
       "    }\n",
       "</style>\n",
       "<table border=\"1\" class=\"dataframe\">\n",
       "  <thead>\n",
       "    <tr style=\"text-align: right;\">\n",
       "      <th></th>\n",
       "      <th>user_id</th>\n",
       "      <th>count</th>\n",
       "    </tr>\n",
       "  </thead>\n",
       "  <tbody>\n",
       "    <tr>\n",
       "      <th>0</th>\n",
       "      <td>9794320</td>\n",
       "      <td>4</td>\n",
       "    </tr>\n",
       "    <tr>\n",
       "      <th>1</th>\n",
       "      <td>10079204</td>\n",
       "      <td>2</td>\n",
       "    </tr>\n",
       "    <tr>\n",
       "      <th>2</th>\n",
       "      <td>10280338</td>\n",
       "      <td>17</td>\n",
       "    </tr>\n",
       "    <tr>\n",
       "      <th>3</th>\n",
       "      <td>12055855</td>\n",
       "      <td>4</td>\n",
       "    </tr>\n",
       "    <tr>\n",
       "      <th>4</th>\n",
       "      <td>12936739</td>\n",
       "      <td>2</td>\n",
       "    </tr>\n",
       "  </tbody>\n",
       "</table>\n",
       "</div>"
      ],
      "text/plain": [
       "    user_id  count\n",
       "0   9794320      4\n",
       "1  10079204      2\n",
       "2  10280338     17\n",
       "3  12055855      4\n",
       "4  12936739      2"
      ]
     },
     "execution_count": 4,
     "metadata": {},
     "output_type": "execute_result"
    }
   ],
   "source": [
    "# Ejecutar la consulta y cargar los datos en un DataFrame\n",
    "try:\n",
    "    data_frequency = pd.read_sql(query_frequency, engine)\n",
    "except Exception as e:\n",
    "    print(f\"Error al conectar o consultar la base de datos: {e}\")\n",
    "\n",
    "# Mostrar las primeras filas del DataFrame\n",
    "data_frequency.head()"
   ]
  },
  {
   "cell_type": "code",
   "execution_count": 5,
   "id": "9795c963-0108-4b1e-b8fc-b5a759534c65",
   "metadata": {},
   "outputs": [
    {
     "data": {
      "text/html": [
       "<div>\n",
       "<style scoped>\n",
       "    .dataframe tbody tr th:only-of-type {\n",
       "        vertical-align: middle;\n",
       "    }\n",
       "\n",
       "    .dataframe tbody tr th {\n",
       "        vertical-align: top;\n",
       "    }\n",
       "\n",
       "    .dataframe thead th {\n",
       "        text-align: right;\n",
       "    }\n",
       "</style>\n",
       "<table border=\"1\" class=\"dataframe\">\n",
       "  <thead>\n",
       "    <tr style=\"text-align: right;\">\n",
       "      <th></th>\n",
       "      <th>user_id</th>\n",
       "      <th>sum</th>\n",
       "    </tr>\n",
       "  </thead>\n",
       "  <tbody>\n",
       "    <tr>\n",
       "      <th>0</th>\n",
       "      <td>9794320</td>\n",
       "      <td>12.68</td>\n",
       "    </tr>\n",
       "    <tr>\n",
       "      <th>1</th>\n",
       "      <td>10079204</td>\n",
       "      <td>25.81</td>\n",
       "    </tr>\n",
       "    <tr>\n",
       "      <th>2</th>\n",
       "      <td>10280338</td>\n",
       "      <td>72.93</td>\n",
       "    </tr>\n",
       "    <tr>\n",
       "      <th>3</th>\n",
       "      <td>12055855</td>\n",
       "      <td>16.54</td>\n",
       "    </tr>\n",
       "    <tr>\n",
       "      <th>4</th>\n",
       "      <td>12936739</td>\n",
       "      <td>29.89</td>\n",
       "    </tr>\n",
       "  </tbody>\n",
       "</table>\n",
       "</div>"
      ],
      "text/plain": [
       "    user_id    sum\n",
       "0   9794320  12.68\n",
       "1  10079204  25.81\n",
       "2  10280338  72.93\n",
       "3  12055855  16.54\n",
       "4  12936739  29.89"
      ]
     },
     "execution_count": 5,
     "metadata": {},
     "output_type": "execute_result"
    }
   ],
   "source": [
    "# Ejecutar la consulta y cargar los datos en un DataFrame\n",
    "try:\n",
    "    data_monetary = pd.read_sql(query_monetary, engine)\n",
    "except Exception as e:\n",
    "    print(f\"Error al conectar o consultar la base de datos: {e}\")\n",
    "\n",
    "# Mostrar las primeras filas del DataFrame\n",
    "data_monetary.head()"
   ]
  },
  {
   "cell_type": "code",
   "execution_count": 7,
   "id": "148de26d-15b6-4bcb-86ea-7019e6209aa1",
   "metadata": {},
   "outputs": [
    {
     "data": {
      "image/png": "[encoded data removed]",
      "text/plain": [
       "<Figure size 1000x400 with 2 Axes>"
      ]
     },
     "metadata": {},
     "output_type": "display_data"
    }
   ],
   "source": [
    "frequency = data_frequency['count'][data_frequency['count'] <= 40].tolist()\n",
    "monetary = data_monetary['sum'].tolist()\n",
    "\n",
    "fig, axs = plt.subplots(1, 2, figsize=(10, 4))\n",
    "\n",
    "axs[0].grid(True, zorder=-1)\n",
    "axs[0].hist(\n",
    "    frequency, \n",
    "    bins=5,\n",
    "    edgecolor='white',    # Borde blanco de las barras\n",
    "    color='#C4D7FF',      # Color de relleno\n",
    "    linewidth=1.5,        # Grosor del borde\n",
    "    histtype='bar',       # Tipo de histograma con barras personalizadas\n",
    "    zorder=3              # Colocar las barras delante de la cuadrícula\n",
    ")\n",
    "axs[0].set_ylabel('Customers')\n",
    "axs[0].set_xlabel('Frequency')\n",
    "axs[0].set_xticks(range(0, 39, 10), range(0, 39, 10))\n",
    "axs[0].set_xlim(0, 45)\n",
    "axs[0].set_ylim(0, 60000)\n",
    "axs[0].set_title('Distribution of the Number of Orders per Customer', fontsize=9)\n",
    "\n",
    "axs[1].grid(True, zorder=-1)\n",
    "axs[1].hist(\n",
    "    monetary, \n",
    "    bins=5,\n",
    "    edgecolor='white',    # Borde blanco de las barras\n",
    "    color='#C4D7FF',      # Color de relleno\n",
    "    linewidth=1.5,        # Grosor del borde\n",
    "    histtype='bar',       # Tipo de histograma con barras personalizadas\n",
    "    zorder=3              # Colocar las barras delante de la cuadrícula\n",
    ")\n",
    "axs[1].set_ylabel('Count of customers')\n",
    "axs[1].set_xlabel('Monetary value in Ⱥ')\n",
    "axs[1].set_title('Histogram of Purchase Price Distribution per Customer', fontsize=9)\n",
    "\n",
    "for ax in axs:\n",
    "    ax.set_axisbelow(True)\n",
    "    ax.set_facecolor('#F5F5F7')  # Fondo\n",
    "    ax.spines['top'].set_visible(False)      # Desactivar borde superior\n",
    "    ax.spines['right'].set_visible(False)    # Desactivar borde derecho\n",
    "    ax.spines['left'].set_visible(False)     # Desactivar borde izquierdo\n",
    "    ax.spines['bottom'].set_visible(False)   # Desactivar borde inferior\n",
    "    ax.tick_params(axis='x', which='both', bottom=False, top=False)\n",
    "    ax.tick_params(axis='y', which='both', left=False, right=False)\n",
    "    ax.grid(axis='y', color='#B7B7B7', linestyle='--', linewidth=0.7, zorder=0)\n",
    "   \n",
    "plt.tight_layout()\n",
    "plt.show()\n"
   ]
  },
  {
   "cell_type": "code",
   "execution_count": null,
   "id": "29c61444-a143-432d-b69e-208d3b956f53",
   "metadata": {},
   "outputs": [],
   "source": []
  }
 ],
 "metadata": {
  "kernelspec": {
   "display_name": "Python 3 (ipykernel)",
   "language": "python",
   "name": "python3"
  },
  "language_info": {
   "codemirror_mode": {
    "name": "ipython",
    "version": 3
   },
   "file_extension": ".py",
   "mimetype": "text/x-python",
   "name": "python",
   "nbconvert_exporter": "python",
   "pygments_lexer": "ipython3",
   "version": "3.11.6"
  }
 },
 "nbformat": 4,
 "nbformat_minor": 5
}
