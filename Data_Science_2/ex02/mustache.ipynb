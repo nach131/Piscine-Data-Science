{
 "cells": [
  {
   "cell_type": "code",
   "execution_count": 1,
   "id": "96f87a21-3de0-4e71-8adb-21d2da112f7f",
   "metadata": {},
   "outputs": [
    {
     "data": {
      "text/plain": [
       "True"
      ]
     },
     "execution_count": 1,
     "metadata": {},
     "output_type": "execute_result"
    }
   ],
   "source": [
    "import os\n",
    "from sqlalchemy import create_engine, text\n",
    "import matplotlib.pyplot as plt\n",
    "import matplotlib.dates as mdates\n",
    "from matplotlib.ticker import FuncFormatter\n",
    "import pandas as pd\n",
    "from dotenv import load_dotenv\n",
    "\n",
    "load_dotenv()"
   ]
  },
  {
   "cell_type": "code",
   "execution_count": 2,
   "id": "e4b339bd-db66-4630-8ace-3615eb9a437c",
   "metadata": {},
   "outputs": [],
   "source": [
    "db_host = os.getenv('DB_HOST')\n",
    "db_port = os.getenv('DB_PORT')\n",
    "db_user = os.getenv('DB_USER')\n",
    "db_pass = os.getenv('DB_PASS')\n",
    "db_name = os.getenv('DB_NAME')\n",
    "\n",
    "connection = f'postgresql://{db_user}:{db_pass}@{db_host}:{db_port}/{db_name}'\n",
    "engine = create_engine(connection)"
   ]
  },
  {
   "cell_type": "code",
   "execution_count": 3,
   "id": "ad3d96fe-5de8-4349-8627-787018a495bd",
   "metadata": {},
   "outputs": [],
   "source": [
    "table = 'customers'\n",
    "query = f\"\"\"\n",
    "SELECT event_time, price, user_id\n",
    "FROM {table}\n",
    "WHERE event_type = 'purchase'\n",
    "\"\"\""
   ]
  },
  {
   "cell_type": "code",
   "execution_count": 4,
   "id": "50f650b2-562d-4cd7-88eb-c3159e7fb0f9",
   "metadata": {},
   "outputs": [
    {
     "data": {
      "text/html": [
       "<div>\n",
       "<style scoped>\n",
       "    .dataframe tbody tr th:only-of-type {\n",
       "        vertical-align: middle;\n",
       "    }\n",
       "\n",
       "    .dataframe tbody tr th {\n",
       "        vertical-align: top;\n",
       "    }\n",
       "\n",
       "    .dataframe thead th {\n",
       "        text-align: right;\n",
       "    }\n",
       "</style>\n",
       "<table border=\"1\" class=\"dataframe\">\n",
       "  <thead>\n",
       "    <tr style=\"text-align: right;\">\n",
       "      <th></th>\n",
       "      <th>event_time</th>\n",
       "      <th>price</th>\n",
       "      <th>user_id</th>\n",
       "    </tr>\n",
       "  </thead>\n",
       "  <tbody>\n",
       "    <tr>\n",
       "      <th>0</th>\n",
       "      <td>2022-12-01 00:17:50</td>\n",
       "      <td>0.38</td>\n",
       "      <td>473613801</td>\n",
       "    </tr>\n",
       "    <tr>\n",
       "      <th>1</th>\n",
       "      <td>2022-12-01 00:17:50</td>\n",
       "      <td>0.38</td>\n",
       "      <td>473613801</td>\n",
       "    </tr>\n",
       "    <tr>\n",
       "      <th>2</th>\n",
       "      <td>2022-12-01 00:17:50</td>\n",
       "      <td>0.38</td>\n",
       "      <td>473613801</td>\n",
       "    </tr>\n",
       "    <tr>\n",
       "      <th>3</th>\n",
       "      <td>2022-12-01 00:17:50</td>\n",
       "      <td>0.37</td>\n",
       "      <td>473613801</td>\n",
       "    </tr>\n",
       "    <tr>\n",
       "      <th>4</th>\n",
       "      <td>2022-12-01 00:17:50</td>\n",
       "      <td>0.38</td>\n",
       "      <td>473613801</td>\n",
       "    </tr>\n",
       "  </tbody>\n",
       "</table>\n",
       "</div>"
      ],
      "text/plain": [
       "           event_time  price    user_id\n",
       "0 2022-12-01 00:17:50   0.38  473613801\n",
       "1 2022-12-01 00:17:50   0.38  473613801\n",
       "2 2022-12-01 00:17:50   0.38  473613801\n",
       "3 2022-12-01 00:17:50   0.37  473613801\n",
       "4 2022-12-01 00:17:50   0.38  473613801"
      ]
     },
     "execution_count": 4,
     "metadata": {},
     "output_type": "execute_result"
    }
   ],
   "source": [
    "# Ejecutar la consulta y cargar los datos en un DataFrame\n",
    "try:\n",
    "    data = pd.read_sql(query, engine)\n",
    "except Exception as e:\n",
    "    print(f\"Error al conectar o consultar la base de datos: {e}\")\n",
    "\n",
    "# Mostrar las primeras filas del DataFrame\n",
    "data.head()"
   ]
  },
  {
   "cell_type": "code",
   "execution_count": 6,
   "id": "87057d1e-51bb-46c1-a938-1239f94f2c9d",
   "metadata": {},
   "outputs": [
    {
     "name": "stdout",
     "output_type": "stream",
     "text": [
      "count: 1044131\n",
      "mean: 4.92108098504881\n",
      "std: 8.85438980110809\n",
      "min: -79.37\n",
      "25%: 1.59\n",
      "50%: 3.0\n",
      "75%: 5.4\n",
      "max: 327.78\n"
     ]
    }
   ],
   "source": [
    "data_chart = {\n",
    "    'count' : data['price'].count(),\n",
    "    'mean' : data['price'].mean(),\n",
    "    'std' : data['price'].std(),\n",
    "    'min' : data['price'].min(),\n",
    "    '25%' : data['price'].quantile(0.25),\n",
    "    '50%' : data['price'].quantile(0.50),\n",
    "    '75%' : data['price'].quantile(0.75),\n",
    "    'max' : data['price'].max(),\n",
    "}\n",
    "\n",
    "for key, value in data_chart.items():\n",
    "    print(f\"{key}: {value}\")\n"
   ]
  },
  {
   "cell_type": "code",
   "execution_count": 5,
   "id": "301edca5-18aa-48b4-8b1b-377adba8a225",
   "metadata": {},
   "outputs": [
    {
     "data": {
      "image/png": "[encoded data removed]",
      "text/plain": [
       "<Figure size 600x400 with 1 Axes>"
      ]
     },
     "metadata": {},
     "output_type": "display_data"
    }
   ],
   "source": [
    "fig, ax = plt.subplots(1, 1, figsize=(6, 4), layout='constrained')\n",
    "\n",
    "flierprops = dict(marker='o', markerfacecolor='grey', markersize=2,\n",
    "              markeredgecolor='grey')\n",
    "medianprops = dict(linestyle='-', color='black')\n",
    "box = ax.boxplot(\n",
    "    data['price'], \n",
    "    vert=False, \n",
    "    medianprops = medianprops,\n",
    "    flierprops=flierprops,\n",
    "    patch_artist=True,\n",
    "    zorder=3,\n",
    "    widths=0.8\n",
    ")\n",
    "\n",
    "for b in box['boxes']:\n",
    "    b.set_facecolor('#757575')\n",
    "    b.set_edgecolor('#757575')\n",
    "ax.set_xlabel('Price')\n",
    "ax.set_yticks([])\n",
    "ax.grid(True, zorder=0)\n",
    "\n",
    "ax.set_facecolor('#F5F5F7')  # Fondo azul claro en hexadecimal\n",
    "ax.spines['top'].set_visible(False)      # Desactivar borde superior\n",
    "ax.spines['right'].set_visible(False)    # Desactivar borde derecho\n",
    "ax.spines['left'].set_visible(False)     # Desactivar borde izquierdo\n",
    "ax.spines['bottom'].set_visible(False)   # Desactivar borde inferior\n",
    "ax.grid(True, zorder=0, color='#B7B7B7', linestyle='--', linewidth=0.6) \n",
    "# Quitar las marcas (ticks) del eje X y Y\n",
    "ax.tick_params( which='both', bottom=False, top=False)\n",
    "\n",
    "plt.show()\n"
   ]
  },
  {
   "cell_type": "code",
   "execution_count": 7,
   "id": "2ccb02ea-c722-4645-b012-da1d3950e39c",
   "metadata": {},
   "outputs": [
    {
     "data": {
      "image/png": "[encoded data removed]",
      "text/plain": [
       "<Figure size 600x400 with 1 Axes>"
      ]
     },
     "metadata": {},
     "output_type": "display_data"
    }
   ],
   "source": [
    "fig, ax = plt.subplots(1, 1, figsize=(6, 4), layout='constrained')\n",
    "\n",
    "flierprops = dict(\n",
    "    marker='o',\n",
    "    markerfacecolor='grey', \n",
    "    markersize=2,\n",
    "    markeredgecolor='grey'\n",
    ")\n",
    "medianprops = dict(linestyle='-', color='black')\n",
    "box = ax.boxplot(\n",
    "    data['price'],\n",
    "    vert=False,\n",
    "    medianprops = medianprops, \n",
    "    showfliers=False,\n",
    "    patch_artist=True,\n",
    "    zorder=3,\n",
    "    widths=0.8\n",
    ")\n",
    "\n",
    "for b in box['boxes']:\n",
    "    b.set_facecolor('#A0D683')\n",
    "ax.set_xlabel('Price')\n",
    "ax.set_yticks([])\n",
    "\n",
    "# Configurar los ticks del eje X\n",
    "\n",
    "ax.set_xticks(range(0, 13, 2))  # Establecer ticks en 0, 2, 4, 6, 8, 10, 12\n",
    "\n",
    "ax.grid(True, zorder=0)\n",
    "\n",
    "ax.set_facecolor('#F5F5F7')  # Fondo azul claro en hexadecimal\n",
    "ax.spines['top'].set_visible(False)      # Desactivar borde superior\n",
    "ax.spines['right'].set_visible(False)    # Desactivar borde derecho\n",
    "ax.spines['left'].set_visible(False)     # Desactivar borde izquierdo\n",
    "ax.spines['bottom'].set_visible(False)   # Desactivar borde inferior\n",
    "ax.grid(True, zorder=0, color='#B7B7B7', linestyle='--', linewidth=0.6) \n",
    "# Quitar las marcas (ticks) del eje X y Y\n",
    "ax.tick_params( which='both', bottom=False, top=False)\n",
    "\n",
    "plt.show()"
   ]
  },
  {
   "cell_type": "markdown",
   "id": "72abba69-8620-4fdc-9635-b0d74bcabb03",
   "metadata": {},
   "source": [
    "# Average basket price for user"
   ]
  },
  {
   "cell_type": "code",
   "execution_count": 8,
   "id": "1bed10ac-f466-4b17-9796-0ee79e468d7e",
   "metadata": {},
   "outputs": [],
   "source": [
    "query = f\"\"\"\n",
    "SELECT user_id, \n",
    "AVG(price) AS average_cart\n",
    "FROM {table} \n",
    "WHERE event_type = 'cart' \n",
    "GROUP BY user_id HAVING AVG(price) BETWEEN 28 AND 36.5\n",
    "\"\"\""
   ]
  },
  {
   "cell_type": "code",
   "execution_count": 9,
   "id": "efdb6ee8-d751-46ff-9d66-bd1200045967",
   "metadata": {},
   "outputs": [
    {
     "data": {
      "text/html": [
       "<div>\n",
       "<style scoped>\n",
       "    .dataframe tbody tr th:only-of-type {\n",
       "        vertical-align: middle;\n",
       "    }\n",
       "\n",
       "    .dataframe tbody tr th {\n",
       "        vertical-align: top;\n",
       "    }\n",
       "\n",
       "    .dataframe thead th {\n",
       "        text-align: right;\n",
       "    }\n",
       "</style>\n",
       "<table border=\"1\" class=\"dataframe\">\n",
       "  <thead>\n",
       "    <tr style=\"text-align: right;\">\n",
       "      <th></th>\n",
       "      <th>user_id</th>\n",
       "      <th>average_cart</th>\n",
       "    </tr>\n",
       "  </thead>\n",
       "  <tbody>\n",
       "    <tr>\n",
       "      <th>0</th>\n",
       "      <td>33805090</td>\n",
       "      <td>31.350000</td>\n",
       "    </tr>\n",
       "    <tr>\n",
       "      <th>1</th>\n",
       "      <td>55849756</td>\n",
       "      <td>33.503333</td>\n",
       "    </tr>\n",
       "    <tr>\n",
       "      <th>2</th>\n",
       "      <td>60573768</td>\n",
       "      <td>35.988571</td>\n",
       "    </tr>\n",
       "    <tr>\n",
       "      <th>3</th>\n",
       "      <td>92381432</td>\n",
       "      <td>33.590000</td>\n",
       "    </tr>\n",
       "    <tr>\n",
       "      <th>4</th>\n",
       "      <td>106471075</td>\n",
       "      <td>30.440778</td>\n",
       "    </tr>\n",
       "  </tbody>\n",
       "</table>\n",
       "</div>"
      ],
      "text/plain": [
       "     user_id  average_cart\n",
       "0   33805090     31.350000\n",
       "1   55849756     33.503333\n",
       "2   60573768     35.988571\n",
       "3   92381432     33.590000\n",
       "4  106471075     30.440778"
      ]
     },
     "execution_count": 9,
     "metadata": {},
     "output_type": "execute_result"
    }
   ],
   "source": [
    "# Ejecutar la consulta y cargar los datos en un DataFrame\n",
    "try:\n",
    "    data = pd.read_sql(query, engine)\n",
    "except Exception as e:\n",
    "    print(f\"Error al conectar o consultar la base de datos: {e}\")\n",
    "\n",
    "# Mostrar las primeras filas del DataFrame\n",
    "data.head()"
   ]
  },
  {
   "cell_type": "code",
   "execution_count": 10,
   "id": "d437fab9-8582-49ea-8b58-bc50f0b3109b",
   "metadata": {},
   "outputs": [
    {
     "data": {
      "image/png": "[encoded data removed]",
      "text/plain": [
       "<Figure size 600x500 with 1 Axes>"
      ]
     },
     "metadata": {},
     "output_type": "display_data"
    }
   ],
   "source": [
    "fig, ax = plt.subplots(1, 1, figsize=(6, 5), layout='constrained')\n",
    "\n",
    "flierprops = dict(\n",
    "    marker='o',\n",
    "    markerfacecolor='grey', \n",
    "    markersize=2,\n",
    "    markeredgecolor='grey'\n",
    ")\n",
    "medianprops = dict(linestyle='-', color='black')\n",
    "chart_data = data['average_cart']\n",
    "box = ax.boxplot(\n",
    "    chart_data, \n",
    "    vert=False,\n",
    "    medianprops = medianprops,\n",
    "    flierprops=flierprops, \n",
    "    patch_artist=True,\n",
    "    zorder=3,\n",
    "    widths=0.8\n",
    ")\n",
    "\n",
    "for b in box['boxes']:\n",
    "    b.set_facecolor('#87A2FF')\n",
    "ax.set_yticks([])\n",
    "\n",
    "ax.grid(True, zorder=0)\n",
    "ax.set_xlim(27, 43) # limites lineas verticales\n",
    "\n",
    "ax.set_facecolor('#F5F5F7')  # Fondo en hexadecimal\n",
    "ax.spines['top'].set_visible(False)      # Desactivar borde superior\n",
    "ax.spines['right'].set_visible(False)    # Desactivar borde derecho\n",
    "ax.spines['left'].set_visible(False)     # Desactivar borde izquierdo\n",
    "ax.spines['bottom'].set_visible(False)   # Desactivar borde inferior\n",
    "ax.grid(True, zorder=0, color='#B7B7B7', linestyle='--', linewidth=0.6) \n",
    "# Quitar las marcas (ticks) del eje X y Y\n",
    "ax.tick_params( which='both', bottom=False, top=False)\n",
    "\n",
    "plt.show()"
   ]
  },
  {
   "cell_type": "code",
   "execution_count": null,
   "id": "6b23b835-5a7f-4391-a355-6cbf4433d5cb",
   "metadata": {},
   "outputs": [],
   "source": []
  }
 ],
 "metadata": {
  "kernelspec": {
   "display_name": "Python 3 (ipykernel)",
   "language": "python",
   "name": "python3"
  },
  "language_info": {
   "codemirror_mode": {
    "name": "ipython",
    "version": 3
   },
   "file_extension": ".py",
   "mimetype": "text/x-python",
   "name": "python",
   "nbconvert_exporter": "python",
   "pygments_lexer": "ipython3",
   "version": "3.11.6"
  }
 },
 "nbformat": 4,
 "nbformat_minor": 5
}
